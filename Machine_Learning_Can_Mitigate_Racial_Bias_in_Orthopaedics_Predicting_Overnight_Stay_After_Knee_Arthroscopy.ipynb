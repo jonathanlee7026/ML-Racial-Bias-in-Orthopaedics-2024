{
  "cells": [
    {
      "cell_type": "markdown",
      "source": [
        "# Load Dataset\n",
        "\n",
        "Load the dataset (as .csv file) as a Pandas dataframe, and visualize first 5 datapoints."
      ],
      "metadata": {
        "id": "ziBsRhleP6bv"
      },
      "id": "ziBsRhleP6bv"
    },
    {
      "cell_type": "code",
      "source": [
        "import pandas as pd\n",
        "import numpy as np\n",
        "\n",
        "acl1=pd.read_csv(\"placehoder_csv\")\n",
        "acl1.head()"
      ],
      "metadata": {
        "id": "bsKpUcvnP3b6"
      },
      "id": "bsKpUcvnP3b6",
      "execution_count": null,
      "outputs": []
    },
    {
      "cell_type": "markdown",
      "source": [
        "# 1. Data pre-processing"
      ],
      "metadata": {
        "id": "soSlf_1eNdmj"
      },
      "id": "soSlf_1eNdmj"
    },
    {
      "cell_type": "markdown",
      "source": [
        "### 1.1 Test-Train Split\n",
        "This step seperates the features used in model development from the outcome of interest (overnight stay). The dataset is then divided into an 85:15 test-train split in which 85% of patients (training cohort) were used in model development while the remaining 15% (testing cohort) tested model performance."
      ],
      "metadata": {
        "id": "2kWbAjQBRch3"
      },
      "id": "2kWbAjQBRch3"
    },
    {
      "cell_type": "code",
      "execution_count": null,
      "metadata": {
        "id": "6efc9bbf"
      },
      "outputs": [],
      "source": [
        "from sklearn.model_selection import train_test_split\n",
        "from imblearn.over_sampling import RandomOverSampler, SMOTE\n",
        "\n",
        "target = 'PLOS'\n",
        "X=acl3[['SEX', 'RACE_NEW', 'CPT', 'INOUT', 'AGE', 'ANESTHES', 'ELECTSURG',\n",
        "        'HEIGHT', 'WEIGHT', 'SMOKE', 'HXCHF', 'HYPERMED', 'EMERGNCY', 'WNDCLAS', 'ASACLAS', 'OPTIME',\n",
        "        'ADMQTR', 'HTOODAY', '4th_Quartile', '2nd_Quartile', '3rd_Quartile', 'Elective',\n",
        "        'Male', 'Non_Binary', 'Black_AA', 'Asian',\n",
        "        'ANESTHES_Epidural', 'ANESTHES_Local', 'ANESTHES_IV_Sedation', 'ANESTHES_None', 'ANESTHES_Other', 'ANESTHES_Regional', 'ANESTHES_Spinal', 'ANESTHES_Unknown',\n",
        "        'ASACLAS_Mild_Disturb', 'ASACLAS_Severe_Disturb', 'ASACLAS_Life_Threat', 'ASACLAS_Moribund', 'ASACLAS_None_Assigned', 'WNDCLAS_Clean_Contaminated', 'WNDCLAS_Contaminated', 'WNDCLAS_Dirty_Infected']]\n",
        "\n",
        "y=acl3[['PLOS']]\n",
        "\n",
        "# spilt the data\n",
        "X_train, X_test, y_train, y_test = train_test_split(X, y,\n",
        "                                   random_state=231,\n",
        "                                   test_size=0.15,\n",
        "                                   shuffle=True,\n",
        "                                   stratify=y[target])"
      ],
      "id": "6efc9bbf"
    },
    {
      "cell_type": "markdown",
      "metadata": {
        "id": "QUgCw2xvy_Ru"
      },
      "source": [
        "### 1.2 Over-Sampling and Under Sampling\n",
        "Due to an overrepresentation of patients who self-identified as White or had same-day discharge, a combination of Synthetic Minority Oversampling Technique (SMOTE) and undersampling was employed to synthetically balance the training cohort. SMOTE synthetically increased all minority classes including overnight stay and race to re-balance the racial disparities that exist within this dataset. Undersampling randomly decreased the number of patients with characteristics overrepresented in the dataset.\n",
        "\n",
        "A counter was created to show the number of patients in the same=day discharge group prior to then after employing the afformentioned resampling techniques."
      ],
      "id": "QUgCw2xvy_Ru"
    },
    {
      "cell_type": "code",
      "execution_count": null,
      "metadata": {
        "id": "kc_dIsKGaqub"
      },
      "outputs": [],
      "source": [
        "from collections import Counter\n",
        "from imblearn.under_sampling import RandomUnderSampler\n",
        "from imblearn.pipeline import Pipeline\n",
        "\n",
        "counter = Counter(y_train[target])\n",
        "print('Before', counter)\n",
        "counter = Counter(X_train)\n",
        "print('Before', counter)\n",
        "\n",
        "over = SMOTE(random_state=423, sampling_strategy = 0.1)\n",
        "under = RandomUnderSampler(sampling_strategy=.5)\n",
        "steps = [('o', over), ('u', under)]\n",
        "pipeline = Pipeline(steps=steps)\n",
        "X_comp_train, y_comp_train = pipeline.fit_resample(X_train, y_train[target])\n",
        "y_comp_test = y_test[target]\n",
        "\n",
        "counter = Counter(y_comp_train)\n",
        "print('After', counter)\n",
        "counter = Counter(X_comp_train)\n",
        "print('After', counter)"
      ],
      "id": "kc_dIsKGaqub"
    },
    {
      "cell_type": "markdown",
      "source": [
        "### 1.3 Stratify Test Data by Race\n",
        "In order to assess if the model performs equitably irrespective of patient race, the dataset was stratified by whether a patient self-identified as White, Black or African American, or Asian. First, we  dropped the race variables from the test and train datasets. Second, we created new test variables that included patients of a speciic race. Third, we dropped all race variables from each of the race-specific datasets.\n"
      ],
      "metadata": {
        "id": "-377v86KSC7o"
      },
      "id": "-377v86KSC7o"
    },
    {
      "cell_type": "code",
      "execution_count": null,
      "metadata": {
        "id": "kZ0OCNHOplkx"
      },
      "outputs": [],
      "source": [
        "X_train = X_comp_train\n",
        "y_train = y_comp_train\n",
        "y_test = y_comp_test\n",
        "\n",
        "X_train_no_re = X_train.drop(['RACE_NEW', 'Black_AA', 'Asian'], axis=1)\n",
        "X_test_no_re = X_test.drop(['RACE_NEW', 'Black_AA', 'Asian'], axis=1)\n",
        "\n",
        "X_test_White = X_test.loc[X_test['RACE_NEW']==0]\n",
        "\n",
        "X_test_B_or_AA = X_test.loc[X_test['Black_AA']==1]\n",
        "\n",
        "X_test_Asian = X_test.loc[X_test['Asian']==1]\n",
        "\n",
        "\n",
        "X_test_White1 = X_test_White.drop(['RACE_NEW', 'Black_AA', 'Asian'], axis=1)\n",
        "\n",
        "X_test_B_or_AA1 = X_test_B_or_AA.drop(['RACE_NEW','Black_AA', 'Asian'], axis=1)\n",
        "\n",
        "X_test_Asian1 = X_test_Asian.drop(['RACE_NEW','Black_AA', 'Asian'], axis=1)\n",
        "\n",
        "\n",
        "y_read_test_race = y_test\n",
        "\n",
        "y_White = y_read_test_race.loc[X_test['RACE_NEW']==0]\n",
        "\n",
        "y_Black_AA=y_read_test_race.loc[X_test['Black_AA']==1]\n",
        "\n",
        "y_Asian=y_read_test_race.loc[X_test['Asian']==1]"
      ],
      "id": "kZ0OCNHOplkx"
    },
    {
      "cell_type": "markdown",
      "source": [
        "# 2. Build and Train a Random Forest Classifier"
      ],
      "metadata": {
        "id": "H9f8u_dHSgDZ"
      },
      "id": "H9f8u_dHSgDZ"
    },
    {
      "cell_type": "markdown",
      "source": [
        "### 2.1 Hyperparameter Tuning\n",
        " Randomized Search Cross Validation (RSCV), a resampling method that reduces bias and improves model generalizability by training decision trees on subsets of data, was performed to recognize hyperparameters that optimized the Random Forest model.\n"
      ],
      "metadata": {
        "id": "VfhMno94HGVt"
      },
      "id": "VfhMno94HGVt"
    },
    {
      "cell_type": "code",
      "execution_count": null,
      "metadata": {
        "id": "841102ad"
      },
      "outputs": [],
      "source": [
        "# this is a basic randomized search of the potential parameters (number of trees or estimators, depth, etc.).\n",
        "# # The idea here is to find hyperparameters that are ideal for the training data.\n",
        "\n",
        "from sklearn.model_selection import RandomizedSearchCV as RSCV\n",
        "\n",
        "param_grid = {'n_estimators':np.arange(5, 300, 5),\n",
        "              'max_depth': [3, 5, 7, 9, 11, 13, 15]}\n",
        "\n",
        "rfm1 = RSCV(RandomForestClassifier(), param_grid, n_iter = 15).fit(X_train_no_re, y_train)"
      ],
      "id": "841102ad"
    },
    {
      "cell_type": "markdown",
      "source": [
        "# 3. Plot Confusion Matrix and ROC Curve"
      ],
      "metadata": {
        "id": "uPiB1W91S_Aa"
      },
      "id": "uPiB1W91S_Aa"
    },
    {
      "cell_type": "markdown",
      "source": [
        "### 3.1 Confusion Matrix and ROC Curve on Training Data\n",
        "Model performance was assessed using the following measurements: area under the curve (AUC), accuracy, and F1 score for overnight stay. An AUC of 0.8 to 0.9 was considered good and > 0.9 considered excellent. Accuracy represents the number of correctly predicted true positives and true negatives divided by the total number of cases. F1 score represents the harmonic mean between the model’s precision and recall with a score >= 0.7 being considered good."
      ],
      "metadata": {
        "id": "Dm3tPbyHTWXS"
      },
      "id": "Dm3tPbyHTWXS"
    },
    {
      "cell_type": "code",
      "execution_count": null,
      "metadata": {
        "id": "9a72dd11"
      },
      "outputs": [],
      "source": [
        "from sklearn.metrics import RocCurveDisplay as plot_roc_curve\n",
        "\n",
        "plot_roc_curve.from_estimator(rfm1, X_train_no_re, y_train)"
      ],
      "id": "9a72dd11"
    },
    {
      "cell_type": "code",
      "execution_count": null,
      "metadata": {
        "id": "lAJP1G0bMpn3"
      },
      "outputs": [],
      "source": [
        "import matplotlib.pyplot as plt\n",
        "from sklearn.metrics import confusion_matrix, ConfusionMatrixDisplay\n",
        "\n",
        "# this next line generates proedictions using the random forest with the test data\n",
        "rfm1_predictions = rfm1.predict(X_train_no_re)\n",
        "\n",
        "cm_rfm1 = confusion_matrix(y_train, rfm1_predictions, labels=rfm1.classes_)\n",
        "\n",
        "disp = ConfusionMatrixDisplay(confusion_matrix=cm_rfm1,\n",
        "                              display_labels=rfm1.classes_)\n",
        "disp.plot()"
      ],
      "id": "lAJP1G0bMpn3"
    },
    {
      "cell_type": "code",
      "execution_count": null,
      "metadata": {
        "id": "goh76goQHLVm"
      },
      "outputs": [],
      "source": [
        "from sklearn.metrics import classification_report, confusion_matrix\n",
        "\n",
        "print(classification_report(y_train, rfm1_predictions))"
      ],
      "id": "goh76goQHLVm"
    },
    {
      "cell_type": "markdown",
      "source": [
        "### 3.2 Confusion Matrix and ROC Curve on Training Data, Stratified by Race\n",
        "Model performance was assessed stratified by race, using the data subsets created in **step** **1.3**."
      ],
      "metadata": {
        "id": "__y5MV3YTbjy"
      },
      "id": "__y5MV3YTbjy"
    },
    {
      "cell_type": "code",
      "execution_count": null,
      "metadata": {
        "id": "JNnuQpYhMZPJ"
      },
      "outputs": [],
      "source": [
        "plot_roc_curve.from_estimator(rfm1, X_test_no_re, y_test)"
      ],
      "id": "JNnuQpYhMZPJ"
    },
    {
      "cell_type": "code",
      "execution_count": null,
      "metadata": {
        "id": "lsQRlHHDt6EA"
      },
      "outputs": [],
      "source": [
        "rfm1_predictions = rfm1.predict(X_test_no_re)\n",
        "\n",
        "cm_rfm1 = confusion_matrix(y_test, rfm1_predictions, labels=rfm1.classes_)\n",
        "\n",
        "disp1 = ConfusionMatrixDisplay(confusion_matrix=cm_rfm1,\n",
        "                              display_labels=rfm1.classes_)\n",
        "disp1.plot()"
      ],
      "id": "lsQRlHHDt6EA"
    },
    {
      "cell_type": "code",
      "execution_count": null,
      "metadata": {
        "id": "E20VrvJGwyGp"
      },
      "outputs": [],
      "source": [
        "print(classification_report(y_test, rfm1_predictions))"
      ],
      "id": "E20VrvJGwyGp"
    },
    {
      "cell_type": "code",
      "execution_count": null,
      "metadata": {
        "id": "kZHbA75xLf4o"
      },
      "outputs": [],
      "source": [
        "#Test White\n",
        "plot_roc_curve.from_estimator(rfm1, X_test_White1, y_White)"
      ],
      "id": "kZHbA75xLf4o"
    },
    {
      "cell_type": "code",
      "execution_count": null,
      "metadata": {
        "id": "71358f0a"
      },
      "outputs": [],
      "source": [
        "rfm1_predictions = rfm1.predict(X_test_White1)\n",
        "\n",
        "cm_rfm1 = confusion_matrix(y_White, rfm1_predictions, labels=rfm1.classes_)\n",
        "\n",
        "disp2 = ConfusionMatrixDisplay(confusion_matrix=cm_rfm1,\n",
        "                              display_labels=rfm1.classes_)\n",
        "disp2.plot()"
      ],
      "id": "71358f0a"
    },
    {
      "cell_type": "code",
      "execution_count": null,
      "metadata": {
        "id": "f4Ha58-aFDge"
      },
      "outputs": [],
      "source": [
        "print(classification_report(y_White, rfm1_predictions))"
      ],
      "id": "f4Ha58-aFDge"
    },
    {
      "cell_type": "code",
      "execution_count": null,
      "metadata": {
        "id": "BmU_3rblPiI4"
      },
      "outputs": [],
      "source": [
        "#Test Black_AA\n",
        "plot_roc_curve.from_estimator(rfm1, X_test_B_or_AA1, y_Black_AA)"
      ],
      "id": "BmU_3rblPiI4"
    },
    {
      "cell_type": "code",
      "execution_count": null,
      "metadata": {
        "id": "V-9zoHgmPiCj"
      },
      "outputs": [],
      "source": [
        "rfm1_predictions = rfm1.predict(X_test_B_or_AA1)\n",
        "\n",
        "cm_rfm1 = confusion_matrix(y_Black_AA, rfm1_predictions, labels=rfm1.classes_)\n",
        "\n",
        "disp3 = ConfusionMatrixDisplay(confusion_matrix=cm_rfm1,\n",
        "                              display_labels=rfm1.classes_)\n",
        "disp3.plot()"
      ],
      "id": "V-9zoHgmPiCj"
    },
    {
      "cell_type": "code",
      "execution_count": null,
      "metadata": {
        "id": "ggA30RCVPh8b"
      },
      "outputs": [],
      "source": [
        "print(classification_report(y_Black_AA, rfm1_predictions))"
      ],
      "id": "ggA30RCVPh8b"
    },
    {
      "cell_type": "code",
      "execution_count": null,
      "metadata": {
        "id": "EYljZnaUPhvg"
      },
      "outputs": [],
      "source": [
        "#Test Asian\n",
        "\n",
        "plot_roc_curve.from_estimator(rfm1, X_test_Asian1, y_Asian)"
      ],
      "id": "EYljZnaUPhvg"
    },
    {
      "cell_type": "code",
      "execution_count": null,
      "metadata": {
        "id": "LS3BS35sPhpM"
      },
      "outputs": [],
      "source": [
        "rfm1_predictions = rfm1.predict(X_test_Asian1)\n",
        "\n",
        "cm_rfm1 = confusion_matrix(y_Asian, rfm1_predictions, labels=rfm1.classes_)\n",
        "\n",
        "disp4 = ConfusionMatrixDisplay(confusion_matrix=cm_rfm1,\n",
        "                              display_labels=rfm1.classes_)\n",
        "disp4.plot()"
      ],
      "id": "LS3BS35sPhpM"
    },
    {
      "cell_type": "code",
      "execution_count": null,
      "metadata": {
        "id": "noAFPsZ7PhjV"
      },
      "outputs": [],
      "source": [
        "print(classification_report(y_Asian, rfm1_predictions))"
      ],
      "id": "noAFPsZ7PhjV"
    },
    {
      "cell_type": "markdown",
      "source": [
        "### 3.3 Plot ROC Curve for all Patients\n",
        "The following provides a visualization of how the model performed via ROC Curve stratified by race."
      ],
      "metadata": {
        "id": "_K_Ql3rKVjaQ"
      },
      "id": "_K_Ql3rKVjaQ"
    },
    {
      "cell_type": "code",
      "execution_count": null,
      "metadata": {
        "id": "7m9boODCku42"
      },
      "outputs": [],
      "source": [
        "#ROC Curve\n",
        "from sklearn.metrics import roc_curve\n",
        "\n",
        "y_pred_prob0 = rfm1.predict_proba(X_test_no_re)[:,1]\n",
        "fpr0 , tpr0, thresholds0 = roc_curve(y_test, y_pred_prob0)\n",
        "\n",
        "y_pred_prob1 = rfm1.predict_proba(X_test_White1)[:,1]\n",
        "fpr1 , tpr1, thresholds1 = roc_curve(y_White, y_pred_prob1)\n",
        "\n",
        "y_pred_prob2 = rfm1.predict_proba(X_test_B_or_AA1)[:,1]\n",
        "fpr2 , tpr2, thresholds2 = roc_curve(y_Black_AA, y_pred_prob2)\n",
        "\n",
        "y_pred_prob3 = rfm1.predict_proba(X_test_Asian1)[:,1]\n",
        "fpr3 , tpr3, thresholds3 = roc_curve(y_Asian, y_pred_prob3)\n",
        "\n",
        "plt.plot([0,1],[0,1], 'k-.')\n",
        "plt.plot(fpr0, tpr0, label= \"All Patients\")\n",
        "plt.plot(fpr1, tpr1, label= \"White (AUC=0.93\")\n",
        "plt.plot(fpr2, tpr2, label= \"Black or African American\")\n",
        "plt.plot(fpr3, tpr3, label= \"Asian\")\n",
        "\n",
        "plt.legend()\n",
        "plt.xlabel(\"False Positive Rate\")\n",
        "plt.ylabel(\"True Positive Rate\")\n",
        "plt.title('Receiver Operating Characteristic')\n",
        "\n",
        "plt.show()"
      ],
      "id": "7m9boODCku42"
    }
  ],
  "metadata": {
    "colab": {
      "provenance": []
    },
    "kernelspec": {
      "display_name": "Python 3",
      "name": "python3"
    },
    "language_info": {
      "codemirror_mode": {
        "name": "ipython",
        "version": 3
      },
      "file_extension": ".py",
      "mimetype": "text/x-python",
      "name": "python",
      "nbconvert_exporter": "python",
      "pygments_lexer": "ipython3",
      "version": "3.9.12"
    }
  },
  "nbformat": 4,
  "nbformat_minor": 5
}
